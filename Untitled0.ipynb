{
  "nbformat": 4,
  "nbformat_minor": 0,
  "metadata": {
    "colab": {
      "provenance": []
    },
    "kernelspec": {
      "name": "python3",
      "display_name": "Python 3"
    },
    "language_info": {
      "name": "python"
    }
  },
  "cells": [
    {
      "cell_type": "code",
      "execution_count": 1,
      "metadata": {
        "colab": {
          "base_uri": "https://localhost:8080/"
        },
        "id": "Z-N19VaeqHb5",
        "outputId": "45ad22b0-3311-42f3-d706-9589b12e749a"
      },
      "outputs": [
        {
          "output_type": "stream",
          "name": "stdout",
          "text": [
            "['Step1', 'Step2']\n",
            "['Assign1']\n",
            "Bus7\n",
            "Client2\n"
          ]
        }
      ],
      "source": [
        "# MoMo's stack operations\n",
        "stack = []\n",
        "stack.append(\"Step1\")\n",
        "stack.append(\"Step2\")\n",
        "stack.append(\"Step3\")\n",
        "\n",
        "# Undo last (pop)\n",
        "stack.pop()\n",
        "\n",
        "# Final stack state\n",
        "print(stack)\n",
        "# UR's stack operations\n",
        "stack = []\n",
        "stack.append(\"Assign1\")\n",
        "stack.append(\"Assign2\")\n",
        "stack.append(\"Assign3\")\n",
        "\n",
        "# Pop two elements\n",
        "stack.pop()\n",
        "stack.pop()\n",
        "\n",
        "# Final stack state\n",
        "print(stack)\n",
        "\n",
        "\n",
        "from collections import deque\n",
        "\n",
        "# Initialize queue\n",
        "queue = deque()\n",
        "\n",
        "# 10 buses join\n",
        "for i in range(1, 11):\n",
        "    queue.append(f\"Bus{i}\")\n",
        "\n",
        "# 6 buses depart\n",
        "for _ in range(6):\n",
        "    queue.popleft()\n",
        "\n",
        "# Who is in front?\n",
        "print(queue[0])\n",
        "from collections import deque\n",
        "\n",
        "# Initialize queue\n",
        "queue = deque()\n",
        "\n",
        "# 8 clients join\n",
        "for i in range(1, 9):\n",
        "    queue.append(f\"Client{i}\")\n",
        "\n",
        "# First client served\n",
        "queue.popleft()\n",
        "\n",
        "# Second client to be served\n",
        "print(queue[0])"
      ]
    }
  ]
}